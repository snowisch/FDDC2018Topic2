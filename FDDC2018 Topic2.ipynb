{
 "cells": [
  {
   "cell_type": "code",
   "execution_count": 223,
   "metadata": {},
   "outputs": [
    {
     "name": "stdout",
     "output_type": "stream",
     "text": [
      "证券代码: 600105 证券简称: 永鼎股份 公告编号：临 2014-005 江苏永鼎股份有限公司 特别重大合同生效公告 本公司董事会及全体董事保证本公告内容不存在任何虚假记载、误导性陈述 或者重大遗漏，并对其内容的真实性、准确性和完整性承担个别及连带责任。 近日，公司控股子公司江苏永鼎泰富工程有限公司（以下简称“永鼎泰富”） 收到了业主孟加拉 BPDB-RPCL POWERGEN LTD 对总承包孟加拉 KODDA 150MW 电厂整 个项目的信用证。永鼎泰富联合北京中缆通达电气成套有限公司、福建省电力工 程承包公司组成的三方联合体，与业主孟加拉 BPDB-RPCL POWERGEN LTD 签署了《EPC 总承包合同》。合同具体内容详见公司 2013 年 7 月 25 日在上海证券交易所网站 www.sse.com.cn、上海证券报和证券日报上披露的《公司特别重大合同公告》（临 2013-023）。公司 2013 年第三次临时股东大会审议通过了签署上述合同的议案。 截止目前，该总承包 EPC 合同生效条件已全部完成，合同已正式生效，合同 履行过程中的风险及控制方案详见公司已披露的特别重大合同公告，敬请广大投 资者注意投资风险。 特此公告。 江苏永鼎股份有限公司董事会 2014 年 1 月 29 日 \n"
     ]
    }
   ],
   "source": [
    "# coding=utf-8\n",
    "import sys\n",
    "import os.path\n",
    "import re\n",
    "from bs4 import BeautifulSoup\n",
    "from pdfminer.pdfparser import PDFParser,PDFDocument\n",
    "from pdfminer.pdfinterp import PDFResourceManager, PDFPageInterpreter\n",
    "from pdfminer.converter import PDFPageAggregator\n",
    "from pdfminer.layout import LTTextBoxHorizontal,LAParams\n",
    "from pdfminer.pdfinterp import PDFTextExtractionNotAllowed\n",
    "\n",
    "def prase_all(file_dir):\n",
    "    pathDir = os.listdir(file_dir)\n",
    "    file_path_list = list()\n",
    "    for allDir in pathDir:\n",
    "        child = os.path.join('%s%s' % (file_dir, allDir))\n",
    "        file_path_list.append(child)\n",
    "    for filename in file_path_list:\n",
    "        print(filename)\n",
    "        pdf2TxtManager = CPdf2TxtManager()\n",
    "        pdf2TxtManager.changePdfToText(filename)\n",
    "\n",
    "class CPdf2TxtManager():\n",
    "    def __init__(self):\n",
    "        '''''\n",
    "        Constructor\n",
    "        '''\n",
    "    def changePdfToText(self, file_path):\n",
    "        file = open(file_path, 'rb')\n",
    "        praser = PDFParser(file)\n",
    "        #file.close()\n",
    "        doc = PDFDocument()\n",
    "        praser.set_document(doc)\n",
    "        doc.set_parser(praser)\n",
    "        doc.initialize()\n",
    "        if not doc.is_extractable:\n",
    "            raise PDFTextExtractionNotAllowed\n",
    "        rsrcmgr = PDFResourceManager()\n",
    "        laparams = LAParams()\n",
    "        device = PDFPageAggregator(rsrcmgr, laparams=laparams)\n",
    "        interpreter = PDFPageInterpreter(rsrcmgr, device)\n",
    "        results = \"\"\n",
    "        for page in doc.get_pages(): \n",
    "            interpreter.process_page(page)\n",
    "            layout = device.get_result()\n",
    "            for x in layout:\n",
    "                if hasattr(x, \"get_text\"):\n",
    "                    results += x.get_text()\n",
    "                    \n",
    "        results = re.sub(r'\\s+', ' ', results)\n",
    "        #results = results.replace('/n', ' ')\n",
    "        #print(file_path)\n",
    "        print(results)\n",
    "        f = open(file_path.replace('pdf', 'txt'),'wb')\n",
    "        f.write(bytes(results, encoding = \"utf-8\"))\n",
    "        #file.close()\n",
    "\n",
    "if __name__ == '__main__':\n",
    "    #prase_all('F:\\\\FDDC2018data\\\\round1_train_20180518\\\\重大合同\\\\pdf\\\\')\n",
    "    path = u'F:\\\\FDDC2018data\\\\round1_train_20180518\\\\重大合同\\\\pdf\\\\1008828.pdf'\n",
    "    pdf2TxtManager = CPdf2TxtManager()\n",
    "    pdf2TxtManager.changePdfToText(path)"
   ]
  },
  {
   "cell_type": "code",
   "execution_count": null,
   "metadata": {},
   "outputs": [],
   "source": []
  }
 ],
 "metadata": {
  "kernelspec": {
   "display_name": "Python 3",
   "language": "python",
   "name": "python3"
  },
  "language_info": {
   "codemirror_mode": {
    "name": "ipython",
    "version": 3
   },
   "file_extension": ".py",
   "mimetype": "text/x-python",
   "name": "python",
   "nbconvert_exporter": "python",
   "pygments_lexer": "ipython3",
   "version": "3.6.5"
  }
 },
 "nbformat": 4,
 "nbformat_minor": 2
}
